{
  "nbformat": 4,
  "nbformat_minor": 0,
  "metadata": {
    "colab": {
      "name": "Hackathon.ipynb",
      "provenance": [],
      "collapsed_sections": [],
      "authorship_tag": "ABX9TyN1W9etEF/Lsira8bwNJOsG",
      "include_colab_link": true
    },
    "kernelspec": {
      "name": "python3",
      "display_name": "Python 3"
    },
    "accelerator": "GPU"
  },
  "cells": [
    {
      "cell_type": "markdown",
      "metadata": {
        "id": "view-in-github",
        "colab_type": "text"
      },
      "source": [
        "<a href=\"https://colab.research.google.com/github/klnsuman/MachineLearning/blob/master/Hackathon.ipynb\" target=\"_parent\"><img src=\"https://colab.research.google.com/assets/colab-badge.svg\" alt=\"Open In Colab\"/></a>"
      ]
    },
    {
      "cell_type": "code",
      "metadata": {
        "id": "-397EujUMESB"
      },
      "source": [
        "import pandas as pd\n",
        "import numpy as np"
      ],
      "execution_count": null,
      "outputs": []
    },
    {
      "cell_type": "code",
      "metadata": {
        "colab": {
          "base_uri": "https://localhost:8080/"
        },
        "id": "GEJeCch_e72m",
        "outputId": "92ccd8cd-0154-4fb8-f329-993f67296f79"
      },
      "source": [
        "from google.colab import drive\n",
        "drive.mount('/content/drive')"
      ],
      "execution_count": null,
      "outputs": [
        {
          "output_type": "stream",
          "text": [
            "Mounted at /content/drive\n"
          ],
          "name": "stdout"
        }
      ]
    },
    {
      "cell_type": "code",
      "metadata": {
        "id": "rq2NLkfngc44"
      },
      "source": [
        "import os\n",
        "os.chdir('/content/drive/My Drive/Anamoly')"
      ],
      "execution_count": null,
      "outputs": []
    },
    {
      "cell_type": "code",
      "metadata": {
        "colab": {
          "base_uri": "https://localhost:8080/"
        },
        "id": "ct1A2lCqhpIC",
        "outputId": "4c135386-e3d1-4974-823d-7372f3f01250"
      },
      "source": [
        "!ls -lrt"
      ],
      "execution_count": null,
      "outputs": [
        {
          "output_type": "stream",
          "text": [
            "total 122684\n",
            "-rw------- 1 root root    274780 Nov 20 04:51 faccount.txt\n",
            "-rw------- 1 root root 125352890 Nov 20 04:52 ftxn2.txt\n",
            "-rw------- 1 root root       366 Nov 20 04:53 fagraph.ddl\n"
          ],
          "name": "stdout"
        }
      ]
    },
    {
      "cell_type": "code",
      "metadata": {
        "colab": {
          "base_uri": "https://localhost:8080/",
          "height": 419
        },
        "id": "DpFoihEAgo1B",
        "outputId": "5456ad22-706f-4a29-9813-0797a58f0112"
      },
      "source": [
        "df_facct = pd.read_csv('faccount.txt')\n",
        "df_facct"
      ],
      "execution_count": null,
      "outputs": [
        {
          "output_type": "execute_result",
          "data": {
            "text/html": [
              "<div>\n",
              "<style scoped>\n",
              "    .dataframe tbody tr th:only-of-type {\n",
              "        vertical-align: middle;\n",
              "    }\n",
              "\n",
              "    .dataframe tbody tr th {\n",
              "        vertical-align: top;\n",
              "    }\n",
              "\n",
              "    .dataframe thead th {\n",
              "        text-align: right;\n",
              "    }\n",
              "</style>\n",
              "<table border=\"1\" class=\"dataframe\">\n",
              "  <thead>\n",
              "    <tr style=\"text-align: right;\">\n",
              "      <th></th>\n",
              "      <th>ACCTID</th>\n",
              "      <th>ACCTTYPE</th>\n",
              "      <th>ACCTNAME</th>\n",
              "      <th>FIRSTNAME</th>\n",
              "      <th>SURNAME</th>\n",
              "      <th>DOB</th>\n",
              "      <th>ACCTCREATED</th>\n",
              "      <th>ACCTRISK</th>\n",
              "      <th>ADDRESS</th>\n",
              "      <th>ADDRESS_LAT</th>\n",
              "      <th>ADDRESS_LON</th>\n",
              "      <th>CATEGORY</th>\n",
              "    </tr>\n",
              "  </thead>\n",
              "  <tbody>\n",
              "    <tr>\n",
              "      <th>0</th>\n",
              "      <td>800039</td>\n",
              "      <td>BUSINESS</td>\n",
              "      <td>Young Supermarket</td>\n",
              "      <td>Kevin</td>\n",
              "      <td>Young</td>\n",
              "      <td>1982-02-23T00:00:00</td>\n",
              "      <td>2018-09-20T00:00:00</td>\n",
              "      <td>MEDIUM</td>\n",
              "      <td>BRISBANE</td>\n",
              "      <td>-27.512179</td>\n",
              "      <td>153.073105</td>\n",
              "      <td>Supermarket</td>\n",
              "    </tr>\n",
              "    <tr>\n",
              "      <th>1</th>\n",
              "      <td>800040</td>\n",
              "      <td>BUSINESS</td>\n",
              "      <td>Williams Grocery</td>\n",
              "      <td>Lindsay</td>\n",
              "      <td>Williams</td>\n",
              "      <td>1959-02-20T00:00:00</td>\n",
              "      <td>2018-02-24T00:00:00</td>\n",
              "      <td>MEDIUM</td>\n",
              "      <td>BRISBANE</td>\n",
              "      <td>-27.504303</td>\n",
              "      <td>153.073470</td>\n",
              "      <td>Grocery</td>\n",
              "    </tr>\n",
              "    <tr>\n",
              "      <th>2</th>\n",
              "      <td>800041</td>\n",
              "      <td>CREDIT</td>\n",
              "      <td>Myers Supermarket</td>\n",
              "      <td>Lisa</td>\n",
              "      <td>Myers</td>\n",
              "      <td>1982-09-04T00:00:00</td>\n",
              "      <td>2018-01-11T00:00:00</td>\n",
              "      <td>HIGH</td>\n",
              "      <td>BRISBANE</td>\n",
              "      <td>-27.484970</td>\n",
              "      <td>153.097588</td>\n",
              "      <td>Supermarket</td>\n",
              "    </tr>\n",
              "    <tr>\n",
              "      <th>3</th>\n",
              "      <td>800042</td>\n",
              "      <td>BUSINESS</td>\n",
              "      <td>Martinez Supermarket</td>\n",
              "      <td>Brittany</td>\n",
              "      <td>Martinez</td>\n",
              "      <td>1976-10-11T00:00:00</td>\n",
              "      <td>2018-12-04T00:00:00</td>\n",
              "      <td>MEDIUM</td>\n",
              "      <td>BRISBANE</td>\n",
              "      <td>-27.402357</td>\n",
              "      <td>153.056983</td>\n",
              "      <td>Supermarket</td>\n",
              "    </tr>\n",
              "    <tr>\n",
              "      <th>4</th>\n",
              "      <td>800043</td>\n",
              "      <td>CREDIT</td>\n",
              "      <td>Taylor Grocery</td>\n",
              "      <td>David</td>\n",
              "      <td>Taylor</td>\n",
              "      <td>1978-01-23T00:00:00</td>\n",
              "      <td>2019-07-15T00:00:00</td>\n",
              "      <td>MEDIUM</td>\n",
              "      <td>BRISBANE</td>\n",
              "      <td>-27.473628</td>\n",
              "      <td>152.955089</td>\n",
              "      <td>Grocery</td>\n",
              "    </tr>\n",
              "    <tr>\n",
              "      <th>...</th>\n",
              "      <td>...</td>\n",
              "      <td>...</td>\n",
              "      <td>...</td>\n",
              "      <td>...</td>\n",
              "      <td>...</td>\n",
              "      <td>...</td>\n",
              "      <td>...</td>\n",
              "      <td>...</td>\n",
              "      <td>...</td>\n",
              "      <td>...</td>\n",
              "      <td>...</td>\n",
              "      <td>...</td>\n",
              "    </tr>\n",
              "    <tr>\n",
              "      <th>1995</th>\n",
              "      <td>501232</td>\n",
              "      <td>BUSINESS</td>\n",
              "      <td>Richard, Morgan</td>\n",
              "      <td>Morgan</td>\n",
              "      <td>Richard</td>\n",
              "      <td>1965-02-22T00:00:00</td>\n",
              "      <td>2016-04-20T00:00:00</td>\n",
              "      <td>LOW</td>\n",
              "      <td>BRISBANE</td>\n",
              "      <td>-27.500806</td>\n",
              "      <td>153.084632</td>\n",
              "      <td>CUSTOMER</td>\n",
              "    </tr>\n",
              "    <tr>\n",
              "      <th>1996</th>\n",
              "      <td>501233</td>\n",
              "      <td>CREDIT</td>\n",
              "      <td>Roberts, Amanda</td>\n",
              "      <td>Amanda</td>\n",
              "      <td>Roberts</td>\n",
              "      <td>1990-06-12T00:00:00</td>\n",
              "      <td>2017-06-03T00:00:00</td>\n",
              "      <td>LOW</td>\n",
              "      <td>BRISBANE</td>\n",
              "      <td>-27.492933</td>\n",
              "      <td>152.984622</td>\n",
              "      <td>CUSTOMER</td>\n",
              "    </tr>\n",
              "    <tr>\n",
              "      <th>1997</th>\n",
              "      <td>501234</td>\n",
              "      <td>SAVINGS</td>\n",
              "      <td>Lopez, Christine</td>\n",
              "      <td>Christine</td>\n",
              "      <td>Lopez</td>\n",
              "      <td>1970-01-15T00:00:00</td>\n",
              "      <td>2017-04-23T00:00:00</td>\n",
              "      <td>MEDIUM</td>\n",
              "      <td>BRISBANE</td>\n",
              "      <td>-27.489311</td>\n",
              "      <td>153.094632</td>\n",
              "      <td>CUSTOMER</td>\n",
              "    </tr>\n",
              "    <tr>\n",
              "      <th>1998</th>\n",
              "      <td>501235</td>\n",
              "      <td>CREDIT</td>\n",
              "      <td>Mullins, Robert</td>\n",
              "      <td>Robert</td>\n",
              "      <td>Mullins</td>\n",
              "      <td>1962-11-08T00:00:00</td>\n",
              "      <td>2018-09-21T00:00:00</td>\n",
              "      <td>MEDIUM</td>\n",
              "      <td>BRISBANE</td>\n",
              "      <td>-27.535691</td>\n",
              "      <td>152.985188</td>\n",
              "      <td>CUSTOMER</td>\n",
              "    </tr>\n",
              "    <tr>\n",
              "      <th>1999</th>\n",
              "      <td>501236</td>\n",
              "      <td>SAVINGS</td>\n",
              "      <td>Collins, Mark</td>\n",
              "      <td>Mark</td>\n",
              "      <td>Collins</td>\n",
              "      <td>1990-12-06T00:00:00</td>\n",
              "      <td>2015-05-16T00:00:00</td>\n",
              "      <td>LOW</td>\n",
              "      <td>BRISBANE</td>\n",
              "      <td>-27.412629</td>\n",
              "      <td>153.024467</td>\n",
              "      <td>CUSTOMER</td>\n",
              "    </tr>\n",
              "  </tbody>\n",
              "</table>\n",
              "<p>2000 rows × 12 columns</p>\n",
              "</div>"
            ],
            "text/plain": [
              "      ACCTID  ACCTTYPE  ... ADDRESS_LON     CATEGORY\n",
              "0     800039  BUSINESS  ...  153.073105  Supermarket\n",
              "1     800040  BUSINESS  ...  153.073470      Grocery\n",
              "2     800041    CREDIT  ...  153.097588  Supermarket\n",
              "3     800042  BUSINESS  ...  153.056983  Supermarket\n",
              "4     800043    CREDIT  ...  152.955089      Grocery\n",
              "...      ...       ...  ...         ...          ...\n",
              "1995  501232  BUSINESS  ...  153.084632     CUSTOMER\n",
              "1996  501233    CREDIT  ...  152.984622     CUSTOMER\n",
              "1997  501234   SAVINGS  ...  153.094632     CUSTOMER\n",
              "1998  501235    CREDIT  ...  152.985188     CUSTOMER\n",
              "1999  501236   SAVINGS  ...  153.024467     CUSTOMER\n",
              "\n",
              "[2000 rows x 12 columns]"
            ]
          },
          "metadata": {
            "tags": []
          },
          "execution_count": 10
        }
      ]
    },
    {
      "cell_type": "code",
      "metadata": {
        "id": "r-OP0000qzw1"
      },
      "source": [
        ""
      ],
      "execution_count": null,
      "outputs": []
    },
    {
      "cell_type": "code",
      "metadata": {
        "colab": {
          "base_uri": "https://localhost:8080/",
          "height": 419
        },
        "id": "tDiogITQhj5J",
        "outputId": "cd314a75-08ff-492b-e0d5-617ec4c91429"
      },
      "source": [
        "df_ftxn = pd.read_csv('ftxn2.txt')\n",
        "df_ftxn"
      ],
      "execution_count": null,
      "outputs": [
        {
          "output_type": "execute_result",
          "data": {
            "text/html": [
              "<div>\n",
              "<style scoped>\n",
              "    .dataframe tbody tr th:only-of-type {\n",
              "        vertical-align: middle;\n",
              "    }\n",
              "\n",
              "    .dataframe tbody tr th {\n",
              "        vertical-align: top;\n",
              "    }\n",
              "\n",
              "    .dataframe thead th {\n",
              "        text-align: right;\n",
              "    }\n",
              "</style>\n",
              "<table border=\"1\" class=\"dataframe\">\n",
              "  <thead>\n",
              "    <tr style=\"text-align: right;\">\n",
              "      <th></th>\n",
              "      <th>TXN_ID</th>\n",
              "      <th>TXTYPE</th>\n",
              "      <th>AMOUNT</th>\n",
              "      <th>FROMACCTID</th>\n",
              "      <th>TOACCTID</th>\n",
              "      <th>TXDATE</th>\n",
              "      <th>REFERENCE</th>\n",
              "      <th>ISFRAUD</th>\n",
              "      <th>ISFLAGGED</th>\n",
              "    </tr>\n",
              "  </thead>\n",
              "  <tbody>\n",
              "    <tr>\n",
              "      <th>0</th>\n",
              "      <td>950060711303</td>\n",
              "      <td>PAYMENT</td>\n",
              "      <td>320</td>\n",
              "      <td>500607</td>\n",
              "      <td>800242</td>\n",
              "      <td>2020-01-22T17:00:00</td>\n",
              "      <td>Dinner with Shane</td>\n",
              "      <td>N</td>\n",
              "      <td>Y</td>\n",
              "    </tr>\n",
              "    <tr>\n",
              "      <th>1</th>\n",
              "      <td>950060711401</td>\n",
              "      <td>PAYMENT</td>\n",
              "      <td>48</td>\n",
              "      <td>500607</td>\n",
              "      <td>800111</td>\n",
              "      <td>2020-01-23T08:00:00</td>\n",
              "      <td>Breakfast with Steven</td>\n",
              "      <td>N</td>\n",
              "      <td>Y</td>\n",
              "    </tr>\n",
              "    <tr>\n",
              "      <th>2</th>\n",
              "      <td>950060711402</td>\n",
              "      <td>TRANSFER</td>\n",
              "      <td>6209</td>\n",
              "      <td>500607</td>\n",
              "      <td>500929</td>\n",
              "      <td>2020-01-23T13:00:00</td>\n",
              "      <td>Holiday Cost</td>\n",
              "      <td>N</td>\n",
              "      <td>Y</td>\n",
              "    </tr>\n",
              "    <tr>\n",
              "      <th>3</th>\n",
              "      <td>950060711403</td>\n",
              "      <td>PAYMENT</td>\n",
              "      <td>66</td>\n",
              "      <td>500607</td>\n",
              "      <td>800252</td>\n",
              "      <td>2020-01-23T17:00:00</td>\n",
              "      <td>Meal with Mary</td>\n",
              "      <td>N</td>\n",
              "      <td>Y</td>\n",
              "    </tr>\n",
              "    <tr>\n",
              "      <th>4</th>\n",
              "      <td>950060711501</td>\n",
              "      <td>PAYMENT</td>\n",
              "      <td>47</td>\n",
              "      <td>500607</td>\n",
              "      <td>800116</td>\n",
              "      <td>2020-01-24T08:00:00</td>\n",
              "      <td>Coffee with Brian</td>\n",
              "      <td>N</td>\n",
              "      <td>Y</td>\n",
              "    </tr>\n",
              "    <tr>\n",
              "      <th>...</th>\n",
              "      <td>...</td>\n",
              "      <td>...</td>\n",
              "      <td>...</td>\n",
              "      <td>...</td>\n",
              "      <td>...</td>\n",
              "      <td>...</td>\n",
              "      <td>...</td>\n",
              "      <td>...</td>\n",
              "      <td>...</td>\n",
              "    </tr>\n",
              "    <tr>\n",
              "      <th>1533061</th>\n",
              "      <td>950134025802</td>\n",
              "      <td>TRANSFER</td>\n",
              "      <td>9159</td>\n",
              "      <td>501340</td>\n",
              "      <td>500730</td>\n",
              "      <td>2020-06-15T13:00:00</td>\n",
              "      <td>Water Costs</td>\n",
              "      <td>N</td>\n",
              "      <td>Y</td>\n",
              "    </tr>\n",
              "    <tr>\n",
              "      <th>1533062</th>\n",
              "      <td>950134025803</td>\n",
              "      <td>PAYMENT</td>\n",
              "      <td>323</td>\n",
              "      <td>501340</td>\n",
              "      <td>800201</td>\n",
              "      <td>2020-06-15T17:00:00</td>\n",
              "      <td>Meal with Christine</td>\n",
              "      <td>N</td>\n",
              "      <td>Y</td>\n",
              "    </tr>\n",
              "    <tr>\n",
              "      <th>1533063</th>\n",
              "      <td>950134025901</td>\n",
              "      <td>PAYMENT</td>\n",
              "      <td>75</td>\n",
              "      <td>501340</td>\n",
              "      <td>800136</td>\n",
              "      <td>2020-06-16T08:00:00</td>\n",
              "      <td>Coffee with Kyle</td>\n",
              "      <td>N</td>\n",
              "      <td>Y</td>\n",
              "    </tr>\n",
              "    <tr>\n",
              "      <th>1533064</th>\n",
              "      <td>950134025902</td>\n",
              "      <td>TRANSFER</td>\n",
              "      <td>3997</td>\n",
              "      <td>501340</td>\n",
              "      <td>501193</td>\n",
              "      <td>2020-06-16T13:00:00</td>\n",
              "      <td>Water Costs</td>\n",
              "      <td>N</td>\n",
              "      <td>Y</td>\n",
              "    </tr>\n",
              "    <tr>\n",
              "      <th>1533065</th>\n",
              "      <td>950134025903</td>\n",
              "      <td>PAYMENT</td>\n",
              "      <td>211</td>\n",
              "      <td>501340</td>\n",
              "      <td>800254</td>\n",
              "      <td>2020-06-16T17:00:00</td>\n",
              "      <td>Meal with Sarah</td>\n",
              "      <td>N</td>\n",
              "      <td>Y</td>\n",
              "    </tr>\n",
              "  </tbody>\n",
              "</table>\n",
              "<p>1533066 rows × 9 columns</p>\n",
              "</div>"
            ],
            "text/plain": [
              "               TXN_ID    TXTYPE  ...  ISFRAUD  ISFLAGGED\n",
              "0        950060711303   PAYMENT  ...        N          Y\n",
              "1        950060711401   PAYMENT  ...        N          Y\n",
              "2        950060711402  TRANSFER  ...        N          Y\n",
              "3        950060711403   PAYMENT  ...        N          Y\n",
              "4        950060711501   PAYMENT  ...        N          Y\n",
              "...               ...       ...  ...      ...        ...\n",
              "1533061  950134025802  TRANSFER  ...        N          Y\n",
              "1533062  950134025803   PAYMENT  ...        N          Y\n",
              "1533063  950134025901   PAYMENT  ...        N          Y\n",
              "1533064  950134025902  TRANSFER  ...        N          Y\n",
              "1533065  950134025903   PAYMENT  ...        N          Y\n",
              "\n",
              "[1533066 rows x 9 columns]"
            ]
          },
          "metadata": {
            "tags": []
          },
          "execution_count": 11
        }
      ]
    },
    {
      "cell_type": "code",
      "metadata": {
        "colab": {
          "base_uri": "https://localhost:8080/"
        },
        "id": "juqmvXDgjdYr",
        "outputId": "0871f962-2dfa-43d3-deb5-a386e4cbb587"
      },
      "source": [
        "df_ftxn['ISFLAGGED'].unique()"
      ],
      "execution_count": null,
      "outputs": [
        {
          "output_type": "execute_result",
          "data": {
            "text/plain": [
              "array(['Y'], dtype=object)"
            ]
          },
          "metadata": {
            "tags": []
          },
          "execution_count": 12
        }
      ]
    },
    {
      "cell_type": "code",
      "metadata": {
        "colab": {
          "base_uri": "https://localhost:8080/"
        },
        "id": "erUx6GHQkBhi",
        "outputId": "a7e3c640-d232-428c-c6ed-9a457bbf6dc9"
      },
      "source": [
        "df_ftxn[\"AMOUNT\"]"
      ],
      "execution_count": null,
      "outputs": [
        {
          "output_type": "execute_result",
          "data": {
            "text/plain": [
              "0           320\n",
              "1            48\n",
              "2          6209\n",
              "3            66\n",
              "4            47\n",
              "           ... \n",
              "1533061    9159\n",
              "1533062     323\n",
              "1533063      75\n",
              "1533064    3997\n",
              "1533065     211\n",
              "Name: AMOUNT, Length: 1533066, dtype: int64"
            ]
          },
          "metadata": {
            "tags": []
          },
          "execution_count": 13
        }
      ]
    },
    {
      "cell_type": "code",
      "metadata": {
        "colab": {
          "base_uri": "https://localhost:8080/",
          "height": 419
        },
        "id": "a1fb0CWslDgo",
        "outputId": "83cd2d7b-0f3e-4877-bafb-8f99cc6eb40b"
      },
      "source": [
        "df_ftxn\n",
        "\n"
      ],
      "execution_count": null,
      "outputs": [
        {
          "output_type": "execute_result",
          "data": {
            "text/html": [
              "<div>\n",
              "<style scoped>\n",
              "    .dataframe tbody tr th:only-of-type {\n",
              "        vertical-align: middle;\n",
              "    }\n",
              "\n",
              "    .dataframe tbody tr th {\n",
              "        vertical-align: top;\n",
              "    }\n",
              "\n",
              "    .dataframe thead th {\n",
              "        text-align: right;\n",
              "    }\n",
              "</style>\n",
              "<table border=\"1\" class=\"dataframe\">\n",
              "  <thead>\n",
              "    <tr style=\"text-align: right;\">\n",
              "      <th></th>\n",
              "      <th>TXN_ID</th>\n",
              "      <th>TXTYPE</th>\n",
              "      <th>AMOUNT</th>\n",
              "      <th>FROMACCTID</th>\n",
              "      <th>TOACCTID</th>\n",
              "      <th>TXDATE</th>\n",
              "      <th>REFERENCE</th>\n",
              "      <th>ISFRAUD</th>\n",
              "      <th>ISFLAGGED</th>\n",
              "    </tr>\n",
              "  </thead>\n",
              "  <tbody>\n",
              "    <tr>\n",
              "      <th>0</th>\n",
              "      <td>950060711303</td>\n",
              "      <td>PAYMENT</td>\n",
              "      <td>320</td>\n",
              "      <td>500607</td>\n",
              "      <td>800242</td>\n",
              "      <td>2020-01-22T17:00:00</td>\n",
              "      <td>Dinner with Shane</td>\n",
              "      <td>N</td>\n",
              "      <td>Y</td>\n",
              "    </tr>\n",
              "    <tr>\n",
              "      <th>1</th>\n",
              "      <td>950060711401</td>\n",
              "      <td>PAYMENT</td>\n",
              "      <td>48</td>\n",
              "      <td>500607</td>\n",
              "      <td>800111</td>\n",
              "      <td>2020-01-23T08:00:00</td>\n",
              "      <td>Breakfast with Steven</td>\n",
              "      <td>N</td>\n",
              "      <td>Y</td>\n",
              "    </tr>\n",
              "    <tr>\n",
              "      <th>2</th>\n",
              "      <td>950060711402</td>\n",
              "      <td>TRANSFER</td>\n",
              "      <td>6209</td>\n",
              "      <td>500607</td>\n",
              "      <td>500929</td>\n",
              "      <td>2020-01-23T13:00:00</td>\n",
              "      <td>Holiday Cost</td>\n",
              "      <td>N</td>\n",
              "      <td>Y</td>\n",
              "    </tr>\n",
              "    <tr>\n",
              "      <th>3</th>\n",
              "      <td>950060711403</td>\n",
              "      <td>PAYMENT</td>\n",
              "      <td>66</td>\n",
              "      <td>500607</td>\n",
              "      <td>800252</td>\n",
              "      <td>2020-01-23T17:00:00</td>\n",
              "      <td>Meal with Mary</td>\n",
              "      <td>N</td>\n",
              "      <td>Y</td>\n",
              "    </tr>\n",
              "    <tr>\n",
              "      <th>4</th>\n",
              "      <td>950060711501</td>\n",
              "      <td>PAYMENT</td>\n",
              "      <td>47</td>\n",
              "      <td>500607</td>\n",
              "      <td>800116</td>\n",
              "      <td>2020-01-24T08:00:00</td>\n",
              "      <td>Coffee with Brian</td>\n",
              "      <td>N</td>\n",
              "      <td>Y</td>\n",
              "    </tr>\n",
              "    <tr>\n",
              "      <th>...</th>\n",
              "      <td>...</td>\n",
              "      <td>...</td>\n",
              "      <td>...</td>\n",
              "      <td>...</td>\n",
              "      <td>...</td>\n",
              "      <td>...</td>\n",
              "      <td>...</td>\n",
              "      <td>...</td>\n",
              "      <td>...</td>\n",
              "    </tr>\n",
              "    <tr>\n",
              "      <th>1533061</th>\n",
              "      <td>950134025802</td>\n",
              "      <td>TRANSFER</td>\n",
              "      <td>9159</td>\n",
              "      <td>501340</td>\n",
              "      <td>500730</td>\n",
              "      <td>2020-06-15T13:00:00</td>\n",
              "      <td>Water Costs</td>\n",
              "      <td>N</td>\n",
              "      <td>Y</td>\n",
              "    </tr>\n",
              "    <tr>\n",
              "      <th>1533062</th>\n",
              "      <td>950134025803</td>\n",
              "      <td>PAYMENT</td>\n",
              "      <td>323</td>\n",
              "      <td>501340</td>\n",
              "      <td>800201</td>\n",
              "      <td>2020-06-15T17:00:00</td>\n",
              "      <td>Meal with Christine</td>\n",
              "      <td>N</td>\n",
              "      <td>Y</td>\n",
              "    </tr>\n",
              "    <tr>\n",
              "      <th>1533063</th>\n",
              "      <td>950134025901</td>\n",
              "      <td>PAYMENT</td>\n",
              "      <td>75</td>\n",
              "      <td>501340</td>\n",
              "      <td>800136</td>\n",
              "      <td>2020-06-16T08:00:00</td>\n",
              "      <td>Coffee with Kyle</td>\n",
              "      <td>N</td>\n",
              "      <td>Y</td>\n",
              "    </tr>\n",
              "    <tr>\n",
              "      <th>1533064</th>\n",
              "      <td>950134025902</td>\n",
              "      <td>TRANSFER</td>\n",
              "      <td>3997</td>\n",
              "      <td>501340</td>\n",
              "      <td>501193</td>\n",
              "      <td>2020-06-16T13:00:00</td>\n",
              "      <td>Water Costs</td>\n",
              "      <td>N</td>\n",
              "      <td>Y</td>\n",
              "    </tr>\n",
              "    <tr>\n",
              "      <th>1533065</th>\n",
              "      <td>950134025903</td>\n",
              "      <td>PAYMENT</td>\n",
              "      <td>211</td>\n",
              "      <td>501340</td>\n",
              "      <td>800254</td>\n",
              "      <td>2020-06-16T17:00:00</td>\n",
              "      <td>Meal with Sarah</td>\n",
              "      <td>N</td>\n",
              "      <td>Y</td>\n",
              "    </tr>\n",
              "  </tbody>\n",
              "</table>\n",
              "<p>1533066 rows × 9 columns</p>\n",
              "</div>"
            ],
            "text/plain": [
              "               TXN_ID    TXTYPE  ...  ISFRAUD  ISFLAGGED\n",
              "0        950060711303   PAYMENT  ...        N          Y\n",
              "1        950060711401   PAYMENT  ...        N          Y\n",
              "2        950060711402  TRANSFER  ...        N          Y\n",
              "3        950060711403   PAYMENT  ...        N          Y\n",
              "4        950060711501   PAYMENT  ...        N          Y\n",
              "...               ...       ...  ...      ...        ...\n",
              "1533061  950134025802  TRANSFER  ...        N          Y\n",
              "1533062  950134025803   PAYMENT  ...        N          Y\n",
              "1533063  950134025901   PAYMENT  ...        N          Y\n",
              "1533064  950134025902  TRANSFER  ...        N          Y\n",
              "1533065  950134025903   PAYMENT  ...        N          Y\n",
              "\n",
              "[1533066 rows x 9 columns]"
            ]
          },
          "metadata": {
            "tags": []
          },
          "execution_count": 14
        }
      ]
    },
    {
      "cell_type": "code",
      "metadata": {
        "colab": {
          "base_uri": "https://localhost:8080/"
        },
        "id": "A3k_qMjGl1AO",
        "outputId": "9f161ef6-9518-4884-caf4-3382ba98254f"
      },
      "source": [
        "df_ftxn[\"AMOUNT\"].sum(),df_ftxn[\"AMOUNT\"].min(),df_ftxn[\"AMOUNT\"].max()"
      ],
      "execution_count": null,
      "outputs": [
        {
          "output_type": "execute_result",
          "data": {
            "text/plain": [
              "(2859883724, 25, 200020)"
            ]
          },
          "metadata": {
            "tags": []
          },
          "execution_count": 15
        }
      ]
    },
    {
      "cell_type": "code",
      "metadata": {
        "colab": {
          "base_uri": "https://localhost:8080/"
        },
        "id": "qSXHSGqhnFFe",
        "outputId": "586fbecd-55e6-400f-e082-fb1cde779e0c"
      },
      "source": [
        "df_ftxn[\"AMOUNT\"].describe().round()"
      ],
      "execution_count": null,
      "outputs": [
        {
          "output_type": "execute_result",
          "data": {
            "text/plain": [
              "count    1533066.0\n",
              "mean        1865.0\n",
              "std         3039.0\n",
              "min           25.0\n",
              "25%           66.0\n",
              "50%          280.0\n",
              "75%         2873.0\n",
              "max       200020.0\n",
              "Name: AMOUNT, dtype: float64"
            ]
          },
          "metadata": {
            "tags": []
          },
          "execution_count": 16
        }
      ]
    },
    {
      "cell_type": "code",
      "metadata": {
        "colab": {
          "base_uri": "https://localhost:8080/"
        },
        "id": "sOW8HAS2n-o7",
        "outputId": "c6f86d0b-fd00-4015-9652-8ad0c112f3df"
      },
      "source": [
        "import numpy as np\n",
        "import tensorflow as tf\n",
        "import pandas as pd\n",
        "pd.options.mode.chained_assignment = None\n",
        "import seaborn as sns\n",
        "from matplotlib.pylab import rcParams\n",
        "import matplotlib.pyplot as plt\n",
        "import plotly.express as px\n",
        "import plotly.graph_objects as go\n",
        "\n",
        "%matplotlib inline\n",
        "\n",
        "sns.set(style='whitegrid', palette='muted')\n",
        "rcParams['figure.figsize'] = 14, 8\n",
        "np.random.seed(1)\n",
        "tf.random.set_seed(1)\n",
        "\n",
        "print('Tensorflow version:', tf.__version__)"
      ],
      "execution_count": null,
      "outputs": [
        {
          "output_type": "stream",
          "text": [
            "Tensorflow version: 2.3.0\n"
          ],
          "name": "stdout"
        }
      ]
    },
    {
      "cell_type": "code",
      "metadata": {
        "id": "ED55AUxDpeL8",
        "colab": {
          "base_uri": "https://localhost:8080/"
        },
        "outputId": "e817ce07-7878-445b-a275-f2b329b9cb35"
      },
      "source": [
        "df_ftxn[\"AMOUNT\"].describe()"
      ],
      "execution_count": null,
      "outputs": [
        {
          "output_type": "execute_result",
          "data": {
            "text/plain": [
              "count    1.533066e+06\n",
              "mean     1.865467e+03\n",
              "std      3.039119e+03\n",
              "min      2.500000e+01\n",
              "25%      6.600000e+01\n",
              "50%      2.800000e+02\n",
              "75%      2.873000e+03\n",
              "max      2.000200e+05\n",
              "Name: AMOUNT, dtype: float64"
            ]
          },
          "metadata": {
            "tags": []
          },
          "execution_count": 19
        }
      ]
    },
    {
      "cell_type": "code",
      "metadata": {
        "colab": {
          "base_uri": "https://localhost:8080/",
          "height": 297
        },
        "id": "8_9XD-S8q9qp",
        "outputId": "0a967cf1-6106-4ae0-f79a-b4b71e77d20d"
      },
      "source": [
        "df_ftxn.describe().round()"
      ],
      "execution_count": 21,
      "outputs": [
        {
          "output_type": "execute_result",
          "data": {
            "text/html": [
              "<div>\n",
              "<style scoped>\n",
              "    .dataframe tbody tr th:only-of-type {\n",
              "        vertical-align: middle;\n",
              "    }\n",
              "\n",
              "    .dataframe tbody tr th {\n",
              "        vertical-align: top;\n",
              "    }\n",
              "\n",
              "    .dataframe thead th {\n",
              "        text-align: right;\n",
              "    }\n",
              "</style>\n",
              "<table border=\"1\" class=\"dataframe\">\n",
              "  <thead>\n",
              "    <tr style=\"text-align: right;\">\n",
              "      <th></th>\n",
              "      <th>TXN_ID</th>\n",
              "      <th>AMOUNT</th>\n",
              "      <th>FROMACCTID</th>\n",
              "      <th>TOACCTID</th>\n",
              "    </tr>\n",
              "  </thead>\n",
              "  <tbody>\n",
              "    <tr>\n",
              "      <th>count</th>\n",
              "      <td>1.533066e+06</td>\n",
              "      <td>1533066.0</td>\n",
              "      <td>1533066.0</td>\n",
              "      <td>1533066.0</td>\n",
              "    </tr>\n",
              "    <tr>\n",
              "      <th>mean</th>\n",
              "      <td>9.504230e+11</td>\n",
              "      <td>1865.0</td>\n",
              "      <td>500710.0</td>\n",
              "      <td>700368.0</td>\n",
              "    </tr>\n",
              "    <tr>\n",
              "      <th>std</th>\n",
              "      <td>5.380156e+10</td>\n",
              "      <td>3039.0</td>\n",
              "      <td>1792.0</td>\n",
              "      <td>141185.0</td>\n",
              "    </tr>\n",
              "    <tr>\n",
              "      <th>min</th>\n",
              "      <td>9.500000e+11</td>\n",
              "      <td>25.0</td>\n",
              "      <td>500000.0</td>\n",
              "      <td>500000.0</td>\n",
              "    </tr>\n",
              "    <tr>\n",
              "      <th>25%</th>\n",
              "      <td>9.500350e+11</td>\n",
              "      <td>66.0</td>\n",
              "      <td>500350.0</td>\n",
              "      <td>501049.0</td>\n",
              "    </tr>\n",
              "    <tr>\n",
              "      <th>50%</th>\n",
              "      <td>9.500700e+11</td>\n",
              "      <td>280.0</td>\n",
              "      <td>500700.0</td>\n",
              "      <td>800149.0</td>\n",
              "    </tr>\n",
              "    <tr>\n",
              "      <th>75%</th>\n",
              "      <td>9.501050e+11</td>\n",
              "      <td>2873.0</td>\n",
              "      <td>501050.0</td>\n",
              "      <td>800224.0</td>\n",
              "    </tr>\n",
              "    <tr>\n",
              "      <th>max</th>\n",
              "      <td>9.150080e+12</td>\n",
              "      <td>200020.0</td>\n",
              "      <td>800435.0</td>\n",
              "      <td>800435.0</td>\n",
              "    </tr>\n",
              "  </tbody>\n",
              "</table>\n",
              "</div>"
            ],
            "text/plain": [
              "             TXN_ID     AMOUNT  FROMACCTID   TOACCTID\n",
              "count  1.533066e+06  1533066.0   1533066.0  1533066.0\n",
              "mean   9.504230e+11     1865.0    500710.0   700368.0\n",
              "std    5.380156e+10     3039.0      1792.0   141185.0\n",
              "min    9.500000e+11       25.0    500000.0   500000.0\n",
              "25%    9.500350e+11       66.0    500350.0   501049.0\n",
              "50%    9.500700e+11      280.0    500700.0   800149.0\n",
              "75%    9.501050e+11     2873.0    501050.0   800224.0\n",
              "max    9.150080e+12   200020.0    800435.0   800435.0"
            ]
          },
          "metadata": {
            "tags": []
          },
          "execution_count": 21
        }
      ]
    }
  ]
}