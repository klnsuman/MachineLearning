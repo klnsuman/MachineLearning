{
 "cells": [
  {
   "cell_type": "markdown",
   "metadata": {},
   "source": [
    "# Coding Spam Classifier with Naive Bayes\n",
    "\n",
    "## 1. Pre Processin Data"
   ]
  },
  {
   "cell_type": "code",
   "execution_count": 1,
   "metadata": {},
   "outputs": [],
   "source": [
    "import turicreate\n",
    "import pandas as pd\n",
    "import numpy as np"
   ]
  },
  {
   "cell_type": "code",
   "execution_count": 2,
   "metadata": {},
   "outputs": [
    {
     "name": "stdout",
     "output_type": "stream",
     "text": [
      "hello\n"
     ]
    }
   ],
   "source": [
    "print(\"hello\")"
   ]
  },
  {
   "cell_type": "code",
   "execution_count": 3,
   "metadata": {},
   "outputs": [],
   "source": [
    "emails = pd.read_csv(\"emails.csv\")"
   ]
  },
  {
   "cell_type": "code",
   "execution_count": 11,
   "metadata": {},
   "outputs": [],
   "source": [
    "def process_email(words):\n",
    "    return list(set(words.split()))\n",
    "    \n",
    "emails['words'] = emails['text'].apply(process_email)"
   ]
  },
  {
   "cell_type": "code",
   "execution_count": 16,
   "metadata": {},
   "outputs": [
    {
     "data": {
      "text/plain": [
       "0.2388268156424581"
      ]
     },
     "execution_count": 16,
     "metadata": {},
     "output_type": "execute_result"
    }
   ],
   "source": [
    "1.0 * (sum(emails['spam']==1)/len(emails['spam']))"
   ]
  },
  {
   "cell_type": "code",
   "execution_count": 44,
   "metadata": {},
   "outputs": [
    {
     "name": "stdout",
     "output_type": "stream",
     "text": [
      "e {'spam': 280, 'ham': 87}\n",
      "{'spam': 280, 'ham': 87}\n",
      "spam 280  ham 87\n",
      "0.7629427792915532\n",
      "e {'spam': 110, 'ham': 61}\n",
      "{'spam': 110, 'ham': 61}\n",
      "0.6432748538011696\n"
     ]
    }
   ],
   "source": [
    "def prob_word_spam_ham(word):\n",
    "    email_counts = {'spam': 0,'ham':0}\n",
    "    for index,email in emails.iterrows():\n",
    "        #print(index,emails['words'])\n",
    "        if word in email['words']:\n",
    "            if email['spam'] :\n",
    "                email_counts['spam'] +=1\n",
    "            else:\n",
    "                email_counts['ham'] +=1\n",
    "    print('e',email_counts)            \n",
    "    return email_counts\n",
    "\n",
    "email_counts = prob_word_spam_ham('money')\n",
    "print(email_counts)\n",
    "spam, ham = email_counts['spam'],email_counts['ham']\n",
    "print(\"spam\",spam,\" ham\",ham)\n",
    "Probability = spam /(spam+ham)\n",
    "print(Probability)\n",
    "email_counts = prob_word_spam_ham('easy')\n",
    "print(email_counts)\n",
    "spam, ham = email_counts['spam'],email_counts['ham']\n",
    "Probability = spam /(spam+ham)\n",
    "print(Probability)\n",
    "            \n",
    "                "
   ]
  },
  {
   "cell_type": "code",
   "execution_count": 56,
   "metadata": {},
   "outputs": [],
   "source": [
    "def spam_ham_naive_bayes(words):\n",
    "    email_counts = [prob_word_spam_ham(word) for word in words]\n",
    "    #print(email_counts)\n",
    "    spams = [count['spam'] for count in email_counts]\n",
    "    hams = [count['ham'] for count in email_counts]\n",
    "    #print(spams)\n",
    "    #print(hams)\n",
    "    \n",
    "    spam = np.prod([count['spam'] for count in email_counts])\n",
    "    ham = np.prod([count['ham'] for count in email_counts])\n",
    "    \n",
    "    probability = spam/(spam+ham)\n",
    "    print(probability)\n",
    "    \n",
    "def spam_ham_naive_bayes_string(string):\n",
    "    words = string.split()\n",
    "    spam_ham_naive_bayes(words)"
   ]
  },
  {
   "cell_type": "code",
   "execution_count": 57,
   "metadata": {},
   "outputs": [
    {
     "name": "stdout",
     "output_type": "stream",
     "text": [
      "e {'spam': 280, 'ham': 87}\n",
      "e {'spam': 110, 'ham': 61}\n",
      "0.8530201899908605\n"
     ]
    }
   ],
   "source": [
    "spam_ham_naive_bayes(['money','easy'])"
   ]
  },
  {
   "cell_type": "code",
   "execution_count": 58,
   "metadata": {},
   "outputs": [
    {
     "name": "stdout",
     "output_type": "stream",
     "text": [
      "e {'spam': 51, 'ham': 635}\n",
      "e {'spam': 1, 'ham': 2}\n",
      "e {'spam': 200, 'ham': 608}\n",
      "e {'spam': 617, 'ham': 2258}\n",
      "e {'spam': 982, 'ham': 3476}\n",
      "e {'spam': 349, 'ham': 2459}\n",
      "e {'spam': 119, 'ham': 131}\n",
      "e {'spam': 0, 'ham': 1}\n",
      "0.0\n"
     ]
    }
   ],
   "source": [
    "spam_ham_naive_bayes_string('hi mom how are you please buy apples')"
   ]
  },
  {
   "cell_type": "code",
   "execution_count": 60,
   "metadata": {},
   "outputs": [
    {
     "name": "stdout",
     "output_type": "stream",
     "text": [
      "e {'spam': 119, 'ham': 131}\n",
      "e {'spam': 48, 'ham': 13}\n",
      "e {'spam': 117, 'ham': 0}\n",
      "e {'spam': 323, 'ham': 967}\n",
      "e {'spam': 8, 'ham': 0}\n",
      "1.0\n"
     ]
    }
   ],
   "source": [
    "spam_ham_naive_bayes_string('buy cheap viagra get lottery')"
   ]
  },
  {
   "cell_type": "code",
   "execution_count": 62,
   "metadata": {},
   "outputs": [
    {
     "name": "stdout",
     "output_type": "stream",
     "text": [
      "e {'spam': 51, 'ham': 635}\n",
      "e {'spam': 1, 'ham': 2}\n",
      "0.03860711582134747\n"
     ]
    }
   ],
   "source": [
    "spam_ham_naive_bayes_string('hi mom')"
   ]
  },
  {
   "cell_type": "code",
   "execution_count": null,
   "metadata": {},
   "outputs": [],
   "source": []
  }
 ],
 "metadata": {
  "kernelspec": {
   "display_name": "Python 3",
   "language": "python",
   "name": "python3"
  },
  "language_info": {
   "codemirror_mode": {
    "name": "ipython",
    "version": 3
   },
   "file_extension": ".py",
   "mimetype": "text/x-python",
   "name": "python",
   "nbconvert_exporter": "python",
   "pygments_lexer": "ipython3",
   "version": "3.7.6"
  }
 },
 "nbformat": 4,
 "nbformat_minor": 4
}
