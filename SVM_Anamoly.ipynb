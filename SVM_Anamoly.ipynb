{
  "nbformat": 4,
  "nbformat_minor": 0,
  "metadata": {
    "colab": {
      "name": "SVM-Anamoly.ipynb",
      "provenance": [],
      "collapsed_sections": [],
      "authorship_tag": "ABX9TyP6zdf/oQTur2yEp+WuLHH4",
      "include_colab_link": true
    },
    "kernelspec": {
      "name": "python3",
      "display_name": "Python 3"
    },
    "accelerator": "GPU"
  },
  "cells": [
    {
      "cell_type": "markdown",
      "metadata": {
        "id": "view-in-github",
        "colab_type": "text"
      },
      "source": [
        "<a href=\"https://colab.research.google.com/github/klnsuman/MachineLearning/blob/master/SVM_Anamoly.ipynb\" target=\"_parent\"><img src=\"https://colab.research.google.com/assets/colab-badge.svg\" alt=\"Open In Colab\"/></a>"
      ]
    },
    {
      "cell_type": "code",
      "metadata": {
        "id": "iSifQQU16xXg"
      },
      "source": [
        "import pandas as pd\n",
        "import numpy as np"
      ],
      "execution_count": null,
      "outputs": []
    },
    {
      "cell_type": "code",
      "metadata": {
        "colab": {
          "base_uri": "https://localhost:8080/"
        },
        "id": "V6wTfojy7EDu",
        "outputId": "4fbc45d8-8f17-4764-9f27-8c44eaf3bcab"
      },
      "source": [
        "import numpy as np\n",
        "import tensorflow as tf\n",
        "import pandas as pd\n",
        "pd.options.mode.chained_assignment = None\n",
        "import seaborn as sns\n",
        "from matplotlib.pylab import rcParams\n",
        "import matplotlib.pyplot as plt\n",
        "import plotly.express as px\n",
        "import plotly.graph_objects as go\n",
        "\n",
        "%matplotlib inline\n",
        "\n",
        "sns.set(style='whitegrid', palette='muted')\n",
        "rcParams['figure.figsize'] = 14, 8\n",
        "np.random.seed(1)\n",
        "tf.random.set_seed(1)\n",
        "\n",
        "print('Tensorflow version:', tf.__version__)\n",
        "\n",
        "%tensorflow_version 2.x\n",
        "import tensorflow as tf\n",
        "device_name = tf.test.gpu_device_name()\n",
        "if device_name != '/device:GPU:0':\n",
        "  raise SystemError('GPU device not found')\n",
        "print('Found GPU at: {}'.format(device_name))"
      ],
      "execution_count": 25,
      "outputs": [
        {
          "output_type": "stream",
          "text": [
            "Tensorflow version: 2.3.0\n"
          ],
          "name": "stdout"
        }
      ]
    },
    {
      "cell_type": "code",
      "metadata": {
        "colab": {
          "base_uri": "https://localhost:8080/"
        },
        "id": "8BGkWa-Z7ius",
        "outputId": "b3322499-797a-4138-efe8-4d748d29f95a"
      },
      "source": [
        "from google.colab import drive\n",
        "drive.mount('/content/drive')"
      ],
      "execution_count": 26,
      "outputs": [
        {
          "output_type": "stream",
          "text": [
            "Drive already mounted at /content/drive; to attempt to forcibly remount, call drive.mount(\"/content/drive\", force_remount=True).\n"
          ],
          "name": "stdout"
        }
      ]
    },
    {
      "cell_type": "code",
      "metadata": {
        "id": "ELUswM-Z7po8"
      },
      "source": [
        "import os\n",
        "os.chdir('/content/drive/My Drive/Anamoly')"
      ],
      "execution_count": 27,
      "outputs": []
    },
    {
      "cell_type": "code",
      "metadata": {
        "colab": {
          "base_uri": "https://localhost:8080/"
        },
        "id": "AQZg6oH57vx9",
        "outputId": "959ed2f6-eed2-4a71-d0f3-95e488809365"
      },
      "source": [
        "!ls -lrt"
      ],
      "execution_count": 28,
      "outputs": [
        {
          "output_type": "stream",
          "text": [
            "total 122710\n",
            "-rw------- 1 root root    274780 Nov 20 04:51 faccount.txt\n",
            "-rw------- 1 root root 125352890 Nov 20 04:52 ftxn2.txt\n",
            "-rw------- 1 root root       366 Nov 20 04:53 fagraph.ddl\n",
            "-rw------- 1 root root     13371 Nov 21 05:58 fruits_hist.png\n",
            "-rw------- 1 root root     12198 Nov 21 06:03 Amt.png\n"
          ],
          "name": "stdout"
        }
      ]
    },
    {
      "cell_type": "code",
      "metadata": {
        "id": "_-_xqv8M7MyL"
      },
      "source": [
        "df_facct = pd.read_csv('faccount.txt')\n",
        "\n",
        "df_ftxn = pd.read_csv('ftxn2.txt')\n",
        "\n",
        "\n",
        "df_ftxn[\"TXNDate\"]= pd.to_datetime(df_ftxn[\"TXDATE\"])\n"
      ],
      "execution_count": 29,
      "outputs": []
    },
    {
      "cell_type": "code",
      "metadata": {
        "id": "6P6pfQVS75y4"
      },
      "source": [
        "from sklearn import cluster\n",
        "from sklearn import metrics\n",
        "from sklearn.datasets import make_blobs\n",
        "import matplotlib.pyplot as plt"
      ],
      "execution_count": 30,
      "outputs": []
    },
    {
      "cell_type": "code",
      "metadata": {
        "id": "AKHiehKu8OtC"
      },
      "source": [
        "df_ftxn[\"TXNhour\"] = df_ftxn[\"TXNDate\"].dt.hour\n",
        "df_ftxn[\"TXNDay\"] = df_ftxn[\"TXNDate\"].dt.day\n",
        "df_ftxn[\"TXNMnth\"] = df_ftxn[\"TXNDate\"].dt.month\n",
        "df_ftxn[\"TXNWDay\"] = df_ftxn[\"TXNDate\"].dt.dayofweek"
      ],
      "execution_count": 32,
      "outputs": []
    },
    {
      "cell_type": "code",
      "metadata": {
        "colab": {
          "base_uri": "https://localhost:8080/"
        },
        "id": "ACVDRmvVxjRU",
        "outputId": "051bead7-7088-4e46-a816-36cdb81dbeb2"
      },
      "source": [
        "train['AMOUNT']"
      ],
      "execution_count": 35,
      "outputs": [
        {
          "output_type": "execute_result",
          "data": {
            "text/plain": [
              "0        -0.485225\n",
              "1        -0.570332\n",
              "2         1.357413\n",
              "3        -0.564700\n",
              "4        -0.570645\n",
              "            ...   \n",
              "766528    0.146197\n",
              "766529   -0.482721\n",
              "766530   -0.567516\n",
              "766531    1.449092\n",
              "766532   -0.473960\n",
              "Name: AMOUNT, Length: 766533, dtype: float64"
            ]
          },
          "metadata": {
            "tags": []
          },
          "execution_count": 35
        }
      ]
    },
    {
      "cell_type": "code",
      "metadata": {
        "colab": {
          "base_uri": "https://localhost:8080/"
        },
        "id": "Yram_u5GoToK",
        "outputId": "a0b1e90a-a1ae-4797-814d-456d7386061a"
      },
      "source": [
        "train_size = int(len(df_ftxn) * 0.5)\n",
        "test_size = len(df_ftxn) - train_size\n",
        "train, test = df_ftxn.iloc[0:train_size], df_ftxn.iloc[train_size:len(df_ftxn)]\n",
        "print(train.shape, test.shape)"
      ],
      "execution_count": 36,
      "outputs": [
        {
          "output_type": "stream",
          "text": [
            "(766533, 14) (766533, 14)\n"
          ],
          "name": "stdout"
        }
      ]
    },
    {
      "cell_type": "code",
      "metadata": {
        "id": "Ll5_lN-UojNr"
      },
      "source": [
        "from sklearn.preprocessing import StandardScaler\n",
        "\n",
        "scaler = StandardScaler()\n",
        "scaler = scaler.fit(train[['AMOUNT']])\n",
        "\n",
        "train['AMOUNT'] = scaler.transform(train[['AMOUNT']])\n",
        "test['AMOUNT'] = scaler.transform(test[['AMOUNT']])"
      ],
      "execution_count": 38,
      "outputs": []
    },
    {
      "cell_type": "code",
      "metadata": {
        "colab": {
          "base_uri": "https://localhost:8080/",
          "height": 289
        },
        "id": "QtgbOwlYoykP",
        "outputId": "0d854e64-2203-436d-d0a3-0bcd284b58a7"
      },
      "source": [
        "train.head()"
      ],
      "execution_count": 39,
      "outputs": [
        {
          "output_type": "execute_result",
          "data": {
            "text/html": [
              "<div>\n",
              "<style scoped>\n",
              "    .dataframe tbody tr th:only-of-type {\n",
              "        vertical-align: middle;\n",
              "    }\n",
              "\n",
              "    .dataframe tbody tr th {\n",
              "        vertical-align: top;\n",
              "    }\n",
              "\n",
              "    .dataframe thead th {\n",
              "        text-align: right;\n",
              "    }\n",
              "</style>\n",
              "<table border=\"1\" class=\"dataframe\">\n",
              "  <thead>\n",
              "    <tr style=\"text-align: right;\">\n",
              "      <th></th>\n",
              "      <th>TXN_ID</th>\n",
              "      <th>TXTYPE</th>\n",
              "      <th>AMOUNT</th>\n",
              "      <th>FROMACCTID</th>\n",
              "      <th>TOACCTID</th>\n",
              "      <th>TXDATE</th>\n",
              "      <th>REFERENCE</th>\n",
              "      <th>ISFRAUD</th>\n",
              "      <th>ISFLAGGED</th>\n",
              "      <th>TXNDate</th>\n",
              "      <th>TXNhour</th>\n",
              "      <th>TXNDay</th>\n",
              "      <th>TXNMnth</th>\n",
              "      <th>TXNWDay</th>\n",
              "    </tr>\n",
              "  </thead>\n",
              "  <tbody>\n",
              "    <tr>\n",
              "      <th>0</th>\n",
              "      <td>950060711303</td>\n",
              "      <td>PAYMENT</td>\n",
              "      <td>-0.485225</td>\n",
              "      <td>500607</td>\n",
              "      <td>800242</td>\n",
              "      <td>2020-01-22T17:00:00</td>\n",
              "      <td>Dinner with Shane</td>\n",
              "      <td>N</td>\n",
              "      <td>Y</td>\n",
              "      <td>2020-01-22 17:00:00</td>\n",
              "      <td>17</td>\n",
              "      <td>22</td>\n",
              "      <td>1</td>\n",
              "      <td>2</td>\n",
              "    </tr>\n",
              "    <tr>\n",
              "      <th>1</th>\n",
              "      <td>950060711401</td>\n",
              "      <td>PAYMENT</td>\n",
              "      <td>-0.570332</td>\n",
              "      <td>500607</td>\n",
              "      <td>800111</td>\n",
              "      <td>2020-01-23T08:00:00</td>\n",
              "      <td>Breakfast with Steven</td>\n",
              "      <td>N</td>\n",
              "      <td>Y</td>\n",
              "      <td>2020-01-23 08:00:00</td>\n",
              "      <td>8</td>\n",
              "      <td>23</td>\n",
              "      <td>1</td>\n",
              "      <td>3</td>\n",
              "    </tr>\n",
              "    <tr>\n",
              "      <th>2</th>\n",
              "      <td>950060711402</td>\n",
              "      <td>TRANSFER</td>\n",
              "      <td>1.357413</td>\n",
              "      <td>500607</td>\n",
              "      <td>500929</td>\n",
              "      <td>2020-01-23T13:00:00</td>\n",
              "      <td>Holiday Cost</td>\n",
              "      <td>N</td>\n",
              "      <td>Y</td>\n",
              "      <td>2020-01-23 13:00:00</td>\n",
              "      <td>13</td>\n",
              "      <td>23</td>\n",
              "      <td>1</td>\n",
              "      <td>3</td>\n",
              "    </tr>\n",
              "    <tr>\n",
              "      <th>3</th>\n",
              "      <td>950060711403</td>\n",
              "      <td>PAYMENT</td>\n",
              "      <td>-0.564700</td>\n",
              "      <td>500607</td>\n",
              "      <td>800252</td>\n",
              "      <td>2020-01-23T17:00:00</td>\n",
              "      <td>Meal with Mary</td>\n",
              "      <td>N</td>\n",
              "      <td>Y</td>\n",
              "      <td>2020-01-23 17:00:00</td>\n",
              "      <td>17</td>\n",
              "      <td>23</td>\n",
              "      <td>1</td>\n",
              "      <td>3</td>\n",
              "    </tr>\n",
              "    <tr>\n",
              "      <th>4</th>\n",
              "      <td>950060711501</td>\n",
              "      <td>PAYMENT</td>\n",
              "      <td>-0.570645</td>\n",
              "      <td>500607</td>\n",
              "      <td>800116</td>\n",
              "      <td>2020-01-24T08:00:00</td>\n",
              "      <td>Coffee with Brian</td>\n",
              "      <td>N</td>\n",
              "      <td>Y</td>\n",
              "      <td>2020-01-24 08:00:00</td>\n",
              "      <td>8</td>\n",
              "      <td>24</td>\n",
              "      <td>1</td>\n",
              "      <td>4</td>\n",
              "    </tr>\n",
              "  </tbody>\n",
              "</table>\n",
              "</div>"
            ],
            "text/plain": [
              "         TXN_ID    TXTYPE    AMOUNT  ...  TXNDay  TXNMnth TXNWDay\n",
              "0  950060711303   PAYMENT -0.485225  ...      22        1       2\n",
              "1  950060711401   PAYMENT -0.570332  ...      23        1       3\n",
              "2  950060711402  TRANSFER  1.357413  ...      23        1       3\n",
              "3  950060711403   PAYMENT -0.564700  ...      23        1       3\n",
              "4  950060711501   PAYMENT -0.570645  ...      24        1       4\n",
              "\n",
              "[5 rows x 14 columns]"
            ]
          },
          "metadata": {
            "tags": []
          },
          "execution_count": 39
        }
      ]
    },
    {
      "cell_type": "code",
      "metadata": {
        "colab": {
          "base_uri": "https://localhost:8080/"
        },
        "id": "wPlf06Rn8EOa",
        "outputId": "d55e0ffd-4316-4d5d-cd0e-3bf1348fb030"
      },
      "source": [
        "X = train[[\"TXNhour\",\"TXNDay\",\"TXNMnth\",\"AMOUNT\"]]\n",
        "#X = X.reshape(-1, 1) \n",
        "kmeans_model = cluster.KMeans(n_clusters=2, random_state=1)\n",
        "kmeans_model.fit(X)\n",
        "kmeans_model.cluster_centers_\n",
        "kmeans_model.labels_"
      ],
      "execution_count": 44,
      "outputs": [
        {
          "output_type": "execute_result",
          "data": {
            "text/plain": [
              "array([1, 1, 1, ..., 1, 1, 1], dtype=int32)"
            ]
          },
          "metadata": {
            "tags": []
          },
          "execution_count": 44
        }
      ]
    },
    {
      "cell_type": "code",
      "metadata": {
        "colab": {
          "base_uri": "https://localhost:8080/"
        },
        "id": "3xbmhMsU8V3s",
        "outputId": "781ee5f2-67e6-464b-8293-034a61482bc4"
      },
      "source": [
        "a = kmeans_model.labels_\n",
        "len(a)"
      ],
      "execution_count": 45,
      "outputs": [
        {
          "output_type": "execute_result",
          "data": {
            "text/plain": [
              "766533"
            ]
          },
          "metadata": {
            "tags": []
          },
          "execution_count": 45
        }
      ]
    },
    {
      "cell_type": "code",
      "metadata": {
        "colab": {
          "base_uri": "https://localhost:8080/"
        },
        "id": "W_EetDBC9CWO",
        "outputId": "0e183d30-2109-469a-b39e-42655d0e8bef"
      },
      "source": [
        "result = np.where(a == 1)\n",
        "result"
      ],
      "execution_count": 46,
      "outputs": [
        {
          "output_type": "execute_result",
          "data": {
            "text/plain": [
              "(array([     0,      1,      2, ..., 766530, 766531, 766532]),)"
            ]
          },
          "metadata": {
            "tags": []
          },
          "execution_count": 46
        }
      ]
    },
    {
      "cell_type": "code",
      "metadata": {
        "id": "M90Zjys_ngdO"
      },
      "source": [
        "from sklearn import svm\n",
        "from sklearn.ensemble import IsolationForest\n",
        "from sklearn.model_selection import GridSearchCV\n",
        "import matplotlib.pyplot as plt"
      ],
      "execution_count": 47,
      "outputs": []
    },
    {
      "cell_type": "code",
      "metadata": {
        "id": "SWLb4bFknTvS"
      },
      "source": [
        "svm_model = svm.OneClassSVM(nu=0.1, gamma=4.0)\n",
        "svm_model.fit(X)\n",
        "decisions_svm = svm_model.decision_function(X)"
      ],
      "execution_count": null,
      "outputs": []
    }
  ]
}